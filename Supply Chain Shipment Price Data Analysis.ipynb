{
 "cells": [
  {
   "cell_type": "markdown",
   "id": "600d2679",
   "metadata": {},
   "source": [
    "## Supply Chain Shipment Price Data Analysis\n",
    "---"
   ]
  },
  {
   "cell_type": "markdown",
   "id": "d0d4a527",
   "metadata": {},
   "source": [
    "### Importing Python libraries\n",
    "---"
   ]
  },
  {
   "cell_type": "code",
   "execution_count": 191,
   "id": "d328095b",
   "metadata": {},
   "outputs": [],
   "source": [
    "import numpy as np\n",
    "import pandas as pd\n",
    "import matplotlib.pyplot as plt\n",
    "import seaborn as sns\n",
    "from datetime import datetime\n",
    "import datetime\n",
    "%matplotlib inline"
   ]
  },
  {
   "cell_type": "markdown",
   "id": "73493e50",
   "metadata": {},
   "source": [
    "### Importing data and checking the summary of data\n",
    "---"
   ]
  },
  {
   "cell_type": "code",
   "execution_count": 192,
   "id": "738eee09",
   "metadata": {},
   "outputs": [
    {
     "data": {
      "text/html": [
       "<div>\n",
       "<style scoped>\n",
       "    .dataframe tbody tr th:only-of-type {\n",
       "        vertical-align: middle;\n",
       "    }\n",
       "\n",
       "    .dataframe tbody tr th {\n",
       "        vertical-align: top;\n",
       "    }\n",
       "\n",
       "    .dataframe thead th {\n",
       "        text-align: right;\n",
       "    }\n",
       "</style>\n",
       "<table border=\"1\" class=\"dataframe\">\n",
       "  <thead>\n",
       "    <tr style=\"text-align: right;\">\n",
       "      <th></th>\n",
       "      <th>Project Code</th>\n",
       "      <th>PQ #</th>\n",
       "      <th>PO / SO #</th>\n",
       "      <th>ASN/DN #</th>\n",
       "      <th>Country</th>\n",
       "      <th>Managed By</th>\n",
       "      <th>Fulfill Via</th>\n",
       "      <th>Vendor INCO Term</th>\n",
       "      <th>Shipment Mode</th>\n",
       "      <th>PQ First Sent to Client Date</th>\n",
       "      <th>...</th>\n",
       "      <th>Unit of Measure (Per Pack)</th>\n",
       "      <th>Line Item Quantity</th>\n",
       "      <th>Line Item Value</th>\n",
       "      <th>Pack Price</th>\n",
       "      <th>Unit Price</th>\n",
       "      <th>Manufacturing Site</th>\n",
       "      <th>First Line Designation</th>\n",
       "      <th>Weight (Kilograms)</th>\n",
       "      <th>Freight Cost (USD)</th>\n",
       "      <th>Line Item Insurance (USD)</th>\n",
       "    </tr>\n",
       "  </thead>\n",
       "  <tbody>\n",
       "    <tr>\n",
       "      <th>0</th>\n",
       "      <td>100-CI-T01</td>\n",
       "      <td>Pre-PQ Process</td>\n",
       "      <td>SCMS-4</td>\n",
       "      <td>ASN-8</td>\n",
       "      <td>Côte d'Ivoire</td>\n",
       "      <td>PMO - US</td>\n",
       "      <td>Direct Drop</td>\n",
       "      <td>EXW</td>\n",
       "      <td>Air</td>\n",
       "      <td>Pre-PQ Process</td>\n",
       "      <td>...</td>\n",
       "      <td>30</td>\n",
       "      <td>19</td>\n",
       "      <td>551.0</td>\n",
       "      <td>29.00</td>\n",
       "      <td>0.97</td>\n",
       "      <td>Ranbaxy Fine Chemicals LTD</td>\n",
       "      <td>Yes</td>\n",
       "      <td>13</td>\n",
       "      <td>780.34</td>\n",
       "      <td>NaN</td>\n",
       "    </tr>\n",
       "    <tr>\n",
       "      <th>1</th>\n",
       "      <td>108-VN-T01</td>\n",
       "      <td>Pre-PQ Process</td>\n",
       "      <td>SCMS-13</td>\n",
       "      <td>ASN-85</td>\n",
       "      <td>Vietnam</td>\n",
       "      <td>PMO - US</td>\n",
       "      <td>Direct Drop</td>\n",
       "      <td>EXW</td>\n",
       "      <td>Air</td>\n",
       "      <td>Pre-PQ Process</td>\n",
       "      <td>...</td>\n",
       "      <td>240</td>\n",
       "      <td>1000</td>\n",
       "      <td>6200.0</td>\n",
       "      <td>6.20</td>\n",
       "      <td>0.03</td>\n",
       "      <td>Aurobindo Unit III, India</td>\n",
       "      <td>Yes</td>\n",
       "      <td>358</td>\n",
       "      <td>4521.5</td>\n",
       "      <td>NaN</td>\n",
       "    </tr>\n",
       "    <tr>\n",
       "      <th>2</th>\n",
       "      <td>100-CI-T01</td>\n",
       "      <td>Pre-PQ Process</td>\n",
       "      <td>SCMS-20</td>\n",
       "      <td>ASN-14</td>\n",
       "      <td>Côte d'Ivoire</td>\n",
       "      <td>PMO - US</td>\n",
       "      <td>Direct Drop</td>\n",
       "      <td>FCA</td>\n",
       "      <td>Air</td>\n",
       "      <td>Pre-PQ Process</td>\n",
       "      <td>...</td>\n",
       "      <td>100</td>\n",
       "      <td>500</td>\n",
       "      <td>40000.0</td>\n",
       "      <td>80.00</td>\n",
       "      <td>0.80</td>\n",
       "      <td>ABBVIE GmbH &amp; Co.KG Wiesbaden</td>\n",
       "      <td>Yes</td>\n",
       "      <td>171</td>\n",
       "      <td>1653.78</td>\n",
       "      <td>NaN</td>\n",
       "    </tr>\n",
       "    <tr>\n",
       "      <th>3</th>\n",
       "      <td>108-VN-T01</td>\n",
       "      <td>Pre-PQ Process</td>\n",
       "      <td>SCMS-78</td>\n",
       "      <td>ASN-50</td>\n",
       "      <td>Vietnam</td>\n",
       "      <td>PMO - US</td>\n",
       "      <td>Direct Drop</td>\n",
       "      <td>EXW</td>\n",
       "      <td>Air</td>\n",
       "      <td>Pre-PQ Process</td>\n",
       "      <td>...</td>\n",
       "      <td>60</td>\n",
       "      <td>31920</td>\n",
       "      <td>127360.8</td>\n",
       "      <td>3.99</td>\n",
       "      <td>0.07</td>\n",
       "      <td>Ranbaxy, Paonta Shahib, India</td>\n",
       "      <td>Yes</td>\n",
       "      <td>1855</td>\n",
       "      <td>16007.06</td>\n",
       "      <td>NaN</td>\n",
       "    </tr>\n",
       "    <tr>\n",
       "      <th>4</th>\n",
       "      <td>108-VN-T01</td>\n",
       "      <td>Pre-PQ Process</td>\n",
       "      <td>SCMS-81</td>\n",
       "      <td>ASN-55</td>\n",
       "      <td>Vietnam</td>\n",
       "      <td>PMO - US</td>\n",
       "      <td>Direct Drop</td>\n",
       "      <td>EXW</td>\n",
       "      <td>Air</td>\n",
       "      <td>Pre-PQ Process</td>\n",
       "      <td>...</td>\n",
       "      <td>60</td>\n",
       "      <td>38000</td>\n",
       "      <td>121600.0</td>\n",
       "      <td>3.20</td>\n",
       "      <td>0.05</td>\n",
       "      <td>Aurobindo Unit III, India</td>\n",
       "      <td>Yes</td>\n",
       "      <td>7590</td>\n",
       "      <td>45450.08</td>\n",
       "      <td>NaN</td>\n",
       "    </tr>\n",
       "  </tbody>\n",
       "</table>\n",
       "<p>5 rows × 32 columns</p>\n",
       "</div>"
      ],
      "text/plain": [
       "  Project Code            PQ # PO / SO # ASN/DN #        Country Managed By  \\\n",
       "0   100-CI-T01  Pre-PQ Process    SCMS-4    ASN-8  Côte d'Ivoire   PMO - US   \n",
       "1   108-VN-T01  Pre-PQ Process   SCMS-13   ASN-85        Vietnam   PMO - US   \n",
       "2   100-CI-T01  Pre-PQ Process   SCMS-20   ASN-14  Côte d'Ivoire   PMO - US   \n",
       "3   108-VN-T01  Pre-PQ Process   SCMS-78   ASN-50        Vietnam   PMO - US   \n",
       "4   108-VN-T01  Pre-PQ Process   SCMS-81   ASN-55        Vietnam   PMO - US   \n",
       "\n",
       "   Fulfill Via Vendor INCO Term Shipment Mode PQ First Sent to Client Date  \\\n",
       "0  Direct Drop              EXW           Air               Pre-PQ Process   \n",
       "1  Direct Drop              EXW           Air               Pre-PQ Process   \n",
       "2  Direct Drop              FCA           Air               Pre-PQ Process   \n",
       "3  Direct Drop              EXW           Air               Pre-PQ Process   \n",
       "4  Direct Drop              EXW           Air               Pre-PQ Process   \n",
       "\n",
       "   ... Unit of Measure (Per Pack) Line Item Quantity Line Item Value  \\\n",
       "0  ...                         30                 19           551.0   \n",
       "1  ...                        240               1000          6200.0   \n",
       "2  ...                        100                500         40000.0   \n",
       "3  ...                         60              31920        127360.8   \n",
       "4  ...                         60              38000        121600.0   \n",
       "\n",
       "  Pack Price Unit Price             Manufacturing Site First Line Designation  \\\n",
       "0      29.00       0.97     Ranbaxy Fine Chemicals LTD                    Yes   \n",
       "1       6.20       0.03      Aurobindo Unit III, India                    Yes   \n",
       "2      80.00       0.80  ABBVIE GmbH & Co.KG Wiesbaden                    Yes   \n",
       "3       3.99       0.07  Ranbaxy, Paonta Shahib, India                    Yes   \n",
       "4       3.20       0.05      Aurobindo Unit III, India                    Yes   \n",
       "\n",
       "  Weight (Kilograms) Freight Cost (USD) Line Item Insurance (USD)  \n",
       "0                 13             780.34                       NaN  \n",
       "1                358             4521.5                       NaN  \n",
       "2                171            1653.78                       NaN  \n",
       "3               1855           16007.06                       NaN  \n",
       "4               7590           45450.08                       NaN  \n",
       "\n",
       "[5 rows x 32 columns]"
      ]
     },
     "execution_count": 192,
     "metadata": {},
     "output_type": "execute_result"
    }
   ],
   "source": [
    "df = pd.read_csv('SCM.csv')\n",
    "df.head()"
   ]
  },
  {
   "cell_type": "code",
   "execution_count": 193,
   "id": "805b7d14",
   "metadata": {},
   "outputs": [
    {
     "name": "stdout",
     "output_type": "stream",
     "text": [
      "<class 'pandas.core.frame.DataFrame'>\n",
      "RangeIndex: 7879 entries, 0 to 7878\n",
      "Data columns (total 32 columns):\n",
      " #   Column                        Non-Null Count  Dtype  \n",
      "---  ------                        --------------  -----  \n",
      " 0   Project Code                  7879 non-null   object \n",
      " 1   PQ #                          7879 non-null   object \n",
      " 2   PO / SO #                     7879 non-null   object \n",
      " 3   ASN/DN #                      7879 non-null   object \n",
      " 4   Country                       7879 non-null   object \n",
      " 5   Managed By                    7879 non-null   object \n",
      " 6   Fulfill Via                   7879 non-null   object \n",
      " 7   Vendor INCO Term              7879 non-null   object \n",
      " 8   Shipment Mode                 7619 non-null   object \n",
      " 9   PQ First Sent to Client Date  7879 non-null   object \n",
      " 10  PO Sent to Vendor Date        7879 non-null   object \n",
      " 11  Scheduled Delivery Date       7879 non-null   object \n",
      " 12  Delivered to Client Date      7879 non-null   object \n",
      " 13  Delivery Recorded Date        7879 non-null   object \n",
      " 14  Product Group                 7879 non-null   object \n",
      " 15  Sub Classification            7879 non-null   object \n",
      " 16  Vendor                        7879 non-null   object \n",
      " 17  Item Description              7879 non-null   object \n",
      " 18  Molecule/Test Type            7879 non-null   object \n",
      " 19  Brand                         7879 non-null   object \n",
      " 20  Dosage                        6351 non-null   object \n",
      " 21  Dosage Form                   7879 non-null   object \n",
      " 22  Unit of Measure (Per Pack)    7879 non-null   int64  \n",
      " 23  Line Item Quantity            7879 non-null   int64  \n",
      " 24  Line Item Value               7879 non-null   float64\n",
      " 25  Pack Price                    7879 non-null   float64\n",
      " 26  Unit Price                    7879 non-null   float64\n",
      " 27  Manufacturing Site            7879 non-null   object \n",
      " 28  First Line Designation        7879 non-null   object \n",
      " 29  Weight (Kilograms)            7879 non-null   object \n",
      " 30  Freight Cost (USD)            7879 non-null   object \n",
      " 31  Line Item Insurance (USD)     7664 non-null   float64\n",
      "dtypes: float64(4), int64(2), object(26)\n",
      "memory usage: 1.9+ MB\n"
     ]
    }
   ],
   "source": [
    "df.info()"
   ]
  },
  {
   "cell_type": "markdown",
   "id": "bca0489e",
   "metadata": {},
   "source": [
    "### Data Cleaning\n",
    "---"
   ]
  },
  {
   "cell_type": "markdown",
   "id": "639eb427",
   "metadata": {},
   "source": [
    "**Dropping columns which are not required for the analysis**"
   ]
  },
  {
   "cell_type": "code",
   "execution_count": 194,
   "id": "9cfe5830",
   "metadata": {},
   "outputs": [],
   "source": [
    "df.drop(['Item Description','Molecule/Test Type'],axis=1,inplace=True)"
   ]
  },
  {
   "cell_type": "code",
   "execution_count": 195,
   "id": "e59eed22",
   "metadata": {},
   "outputs": [
    {
     "data": {
      "text/plain": [
       "(7879, 30)"
      ]
     },
     "execution_count": 195,
     "metadata": {},
     "output_type": "execute_result"
    }
   ],
   "source": [
    "#shape of df\n",
    "df.shape"
   ]
  },
  {
   "cell_type": "code",
   "execution_count": 196,
   "id": "76d5c0e5",
   "metadata": {},
   "outputs": [
    {
     "data": {
      "text/plain": [
       "Index(['Project Code', 'PQ #', 'PO / SO #', 'ASN/DN #', 'Country',\n",
       "       'Managed By', 'Fulfill Via', 'Vendor INCO Term', 'Shipment Mode',\n",
       "       'PQ First Sent to Client Date', 'PO Sent to Vendor Date',\n",
       "       'Scheduled Delivery Date', 'Delivered to Client Date',\n",
       "       'Delivery Recorded Date', 'Product Group', 'Sub Classification',\n",
       "       'Vendor', 'Brand', 'Dosage', 'Dosage Form',\n",
       "       'Unit of Measure (Per Pack)', 'Line Item Quantity', 'Line Item Value',\n",
       "       'Pack Price', 'Unit Price', 'Manufacturing Site',\n",
       "       'First Line Designation', 'Weight (Kilograms)', 'Freight Cost (USD)',\n",
       "       'Line Item Insurance (USD)'],\n",
       "      dtype='object')"
      ]
     },
     "execution_count": 196,
     "metadata": {},
     "output_type": "execute_result"
    }
   ],
   "source": [
    "df.columns"
   ]
  },
  {
   "cell_type": "markdown",
   "id": "fd9e5798",
   "metadata": {},
   "source": [
    "**Filtering out data and updating df**"
   ]
  },
  {
   "cell_type": "code",
   "execution_count": 197,
   "id": "188e32b5",
   "metadata": {},
   "outputs": [
    {
     "data": {
      "text/plain": [
       "(0, 30)"
      ]
     },
     "execution_count": 197,
     "metadata": {},
     "output_type": "execute_result"
    }
   ],
   "source": [
    "df = df[df['Weight (Kilograms)'] != \"Weight Captured Separately\"]\n",
    "df[df['Weight (Kilograms)'] == \"Weight Captured Separately\"].shape"
   ]
  },
  {
   "cell_type": "code",
   "execution_count": 198,
   "id": "56e58613",
   "metadata": {},
   "outputs": [
    {
     "data": {
      "text/plain": [
       "(0, 30)"
      ]
     },
     "execution_count": 198,
     "metadata": {},
     "output_type": "execute_result"
    }
   ],
   "source": [
    "df = df[df['Freight Cost (USD)'] != \"Invoiced Separately\"]\n",
    "df[df['Freight Cost (USD)'] == \"Invoiced Separately\"].shape"
   ]
  },
  {
   "cell_type": "code",
   "execution_count": 199,
   "id": "8144c465",
   "metadata": {},
   "outputs": [
    {
     "data": {
      "text/plain": [
       "(0, 30)"
      ]
     },
     "execution_count": 199,
     "metadata": {},
     "output_type": "execute_result"
    }
   ],
   "source": [
    "df = df[df['Freight Cost (USD)'] != \"Freight Included in Commodity Cost\"]\n",
    "df[df['Freight Cost (USD)'] == \"Freight Included in Commodity Cost\"].shape"
   ]
  },
  {
   "cell_type": "code",
   "execution_count": 200,
   "id": "fabefbbb",
   "metadata": {},
   "outputs": [
    {
     "data": {
      "text/plain": [
       "(6175, 30)"
      ]
     },
     "execution_count": 200,
     "metadata": {},
     "output_type": "execute_result"
    }
   ],
   "source": [
    "#shape of df after filtering\n",
    "df.shape"
   ]
  },
  {
   "cell_type": "markdown",
   "id": "13d8583a",
   "metadata": {},
   "source": [
    "**Changing datatypes of Weight (Kilograms), Freight Cost (USD)**"
   ]
  },
  {
   "cell_type": "code",
   "execution_count": 201,
   "id": "2c92286a",
   "metadata": {},
   "outputs": [],
   "source": [
    "df['Weight (Kilograms)'] = pd.to_numeric(df['Weight (Kilograms)'])\n",
    "df['Freight Cost (USD)'] =pd.to_numeric(df['Freight Cost (USD)'])"
   ]
  },
  {
   "cell_type": "code",
   "execution_count": 202,
   "id": "aa95fb8f",
   "metadata": {},
   "outputs": [
    {
     "data": {
      "text/plain": [
       "Weight (Kilograms)      int64\n",
       "Freight Cost (USD)    float64\n",
       "dtype: object"
      ]
     },
     "execution_count": 202,
     "metadata": {},
     "output_type": "execute_result"
    }
   ],
   "source": [
    "df[['Weight (Kilograms)','Freight Cost (USD)']].dtypes"
   ]
  },
  {
   "cell_type": "markdown",
   "id": "b9e6ba03",
   "metadata": {},
   "source": [
    "**Handling date columns**"
   ]
  },
  {
   "cell_type": "code",
   "execution_count": 203,
   "id": "ec254ec8",
   "metadata": {},
   "outputs": [
    {
     "data": {
      "text/html": [
       "<div>\n",
       "<style scoped>\n",
       "    .dataframe tbody tr th:only-of-type {\n",
       "        vertical-align: middle;\n",
       "    }\n",
       "\n",
       "    .dataframe tbody tr th {\n",
       "        vertical-align: top;\n",
       "    }\n",
       "\n",
       "    .dataframe thead th {\n",
       "        text-align: right;\n",
       "    }\n",
       "</style>\n",
       "<table border=\"1\" class=\"dataframe\">\n",
       "  <thead>\n",
       "    <tr style=\"text-align: right;\">\n",
       "      <th></th>\n",
       "      <th>PQ First Sent to Client Date</th>\n",
       "      <th>PO Sent to Vendor Date</th>\n",
       "      <th>Scheduled Delivery Date</th>\n",
       "      <th>Delivered to Client Date</th>\n",
       "      <th>Delivery Recorded Date</th>\n",
       "    </tr>\n",
       "  </thead>\n",
       "  <tbody>\n",
       "    <tr>\n",
       "      <th>0</th>\n",
       "      <td>Pre-PQ Process</td>\n",
       "      <td>Date Not Captured</td>\n",
       "      <td>2-Jun-06</td>\n",
       "      <td>2-Jun-06</td>\n",
       "      <td>2-Jun-06</td>\n",
       "    </tr>\n",
       "    <tr>\n",
       "      <th>1</th>\n",
       "      <td>Pre-PQ Process</td>\n",
       "      <td>Date Not Captured</td>\n",
       "      <td>14-Nov-06</td>\n",
       "      <td>14-Nov-06</td>\n",
       "      <td>14-Nov-06</td>\n",
       "    </tr>\n",
       "    <tr>\n",
       "      <th>2</th>\n",
       "      <td>Pre-PQ Process</td>\n",
       "      <td>Date Not Captured</td>\n",
       "      <td>27-Aug-06</td>\n",
       "      <td>27-Aug-06</td>\n",
       "      <td>27-Aug-06</td>\n",
       "    </tr>\n",
       "    <tr>\n",
       "      <th>3</th>\n",
       "      <td>Pre-PQ Process</td>\n",
       "      <td>Date Not Captured</td>\n",
       "      <td>1-Sep-06</td>\n",
       "      <td>1-Sep-06</td>\n",
       "      <td>1-Sep-06</td>\n",
       "    </tr>\n",
       "    <tr>\n",
       "      <th>4</th>\n",
       "      <td>Pre-PQ Process</td>\n",
       "      <td>Date Not Captured</td>\n",
       "      <td>11-Aug-06</td>\n",
       "      <td>11-Aug-06</td>\n",
       "      <td>11-Aug-06</td>\n",
       "    </tr>\n",
       "    <tr>\n",
       "      <th>...</th>\n",
       "      <td>...</td>\n",
       "      <td>...</td>\n",
       "      <td>...</td>\n",
       "      <td>...</td>\n",
       "      <td>...</td>\n",
       "    </tr>\n",
       "    <tr>\n",
       "      <th>7871</th>\n",
       "      <td>10/17/2014</td>\n",
       "      <td>N/A - From RDC</td>\n",
       "      <td>29-May-15</td>\n",
       "      <td>9-Jun-15</td>\n",
       "      <td>15-Jun-15</td>\n",
       "    </tr>\n",
       "    <tr>\n",
       "      <th>7872</th>\n",
       "      <td>8/21/2014</td>\n",
       "      <td>N/A - From RDC</td>\n",
       "      <td>29-May-15</td>\n",
       "      <td>15-Jun-15</td>\n",
       "      <td>15-Jun-15</td>\n",
       "    </tr>\n",
       "    <tr>\n",
       "      <th>7873</th>\n",
       "      <td>11/3/2014</td>\n",
       "      <td>N/A - From RDC</td>\n",
       "      <td>30-Jun-15</td>\n",
       "      <td>4-Jun-15</td>\n",
       "      <td>15-Jun-15</td>\n",
       "    </tr>\n",
       "    <tr>\n",
       "      <th>7874</th>\n",
       "      <td>9/19/2014</td>\n",
       "      <td>N/A - From RDC</td>\n",
       "      <td>30-Jun-15</td>\n",
       "      <td>15-May-15</td>\n",
       "      <td>22-May-15</td>\n",
       "    </tr>\n",
       "    <tr>\n",
       "      <th>7875</th>\n",
       "      <td>5/4/2015</td>\n",
       "      <td>N/A - From RDC</td>\n",
       "      <td>2-Jun-15</td>\n",
       "      <td>15-May-15</td>\n",
       "      <td>22-May-15</td>\n",
       "    </tr>\n",
       "  </tbody>\n",
       "</table>\n",
       "<p>6175 rows × 5 columns</p>\n",
       "</div>"
      ],
      "text/plain": [
       "     PQ First Sent to Client Date PO Sent to Vendor Date  \\\n",
       "0                  Pre-PQ Process      Date Not Captured   \n",
       "1                  Pre-PQ Process      Date Not Captured   \n",
       "2                  Pre-PQ Process      Date Not Captured   \n",
       "3                  Pre-PQ Process      Date Not Captured   \n",
       "4                  Pre-PQ Process      Date Not Captured   \n",
       "...                           ...                    ...   \n",
       "7871                   10/17/2014         N/A - From RDC   \n",
       "7872                    8/21/2014         N/A - From RDC   \n",
       "7873                    11/3/2014         N/A - From RDC   \n",
       "7874                    9/19/2014         N/A - From RDC   \n",
       "7875                     5/4/2015         N/A - From RDC   \n",
       "\n",
       "     Scheduled Delivery Date Delivered to Client Date Delivery Recorded Date  \n",
       "0                   2-Jun-06                 2-Jun-06               2-Jun-06  \n",
       "1                  14-Nov-06                14-Nov-06              14-Nov-06  \n",
       "2                  27-Aug-06                27-Aug-06              27-Aug-06  \n",
       "3                   1-Sep-06                 1-Sep-06               1-Sep-06  \n",
       "4                  11-Aug-06                11-Aug-06              11-Aug-06  \n",
       "...                      ...                      ...                    ...  \n",
       "7871               29-May-15                 9-Jun-15              15-Jun-15  \n",
       "7872               29-May-15                15-Jun-15              15-Jun-15  \n",
       "7873               30-Jun-15                 4-Jun-15              15-Jun-15  \n",
       "7874               30-Jun-15                15-May-15              22-May-15  \n",
       "7875                2-Jun-15                15-May-15              22-May-15  \n",
       "\n",
       "[6175 rows x 5 columns]"
      ]
     },
     "execution_count": 203,
     "metadata": {},
     "output_type": "execute_result"
    }
   ],
   "source": [
    "df[['PQ First Sent to Client Date', 'PO Sent to Vendor Date',\n",
    "    'Scheduled Delivery Date', 'Delivered to Client Date',\n",
    "    'Delivery Recorded Date']]"
   ]
  },
  {
   "cell_type": "code",
   "execution_count": 204,
   "id": "9e013f4c",
   "metadata": {},
   "outputs": [
    {
     "data": {
      "text/plain": [
       "Pre-PQ Process       1415\n",
       "Date Not Captured     144\n",
       "3/10/2011              79\n",
       "3/18/2010              76\n",
       "8/31/2010              58\n",
       "                     ... \n",
       "9/3/2013                1\n",
       "6/4/2013                1\n",
       "4/5/2010                1\n",
       "8/9/2011                1\n",
       "2/2/2012                1\n",
       "Name: PQ First Sent to Client Date, Length: 718, dtype: int64"
      ]
     },
     "execution_count": 204,
     "metadata": {},
     "output_type": "execute_result"
    }
   ],
   "source": [
    "df['PQ First Sent to Client Date'].value_counts()"
   ]
  },
  {
   "cell_type": "code",
   "execution_count": 205,
   "id": "054ad91b",
   "metadata": {},
   "outputs": [
    {
     "data": {
      "text/plain": [
       "N/A - From RDC       3193\n",
       "3/19/2010              76\n",
       "Date Not Captured      73\n",
       "9/24/2010              42\n",
       "3/24/2011              32\n",
       "                     ... \n",
       "6/5/2009                1\n",
       "3/17/2013               1\n",
       "4/10/2014               1\n",
       "6/21/2012               1\n",
       "8/29/2012               1\n",
       "Name: PO Sent to Vendor Date, Length: 804, dtype: int64"
      ]
     },
     "execution_count": 205,
     "metadata": {},
     "output_type": "execute_result"
    }
   ],
   "source": [
    "df['PO Sent to Vendor Date'].value_counts()"
   ]
  },
  {
   "cell_type": "code",
   "execution_count": 206,
   "id": "f1936657",
   "metadata": {},
   "outputs": [
    {
     "data": {
      "text/html": [
       "<div>\n",
       "<style scoped>\n",
       "    .dataframe tbody tr th:only-of-type {\n",
       "        vertical-align: middle;\n",
       "    }\n",
       "\n",
       "    .dataframe tbody tr th {\n",
       "        vertical-align: top;\n",
       "    }\n",
       "\n",
       "    .dataframe thead th {\n",
       "        text-align: right;\n",
       "    }\n",
       "</style>\n",
       "<table border=\"1\" class=\"dataframe\">\n",
       "  <thead>\n",
       "    <tr style=\"text-align: right;\">\n",
       "      <th></th>\n",
       "      <th>PQ First Sent to Client Date</th>\n",
       "      <th>PO Sent to Vendor Date</th>\n",
       "    </tr>\n",
       "  </thead>\n",
       "  <tbody>\n",
       "    <tr>\n",
       "      <th>927</th>\n",
       "      <td>Pre-PQ Process</td>\n",
       "      <td>N/A - From RDC</td>\n",
       "    </tr>\n",
       "    <tr>\n",
       "      <th>928</th>\n",
       "      <td>Pre-PQ Process</td>\n",
       "      <td>N/A - From RDC</td>\n",
       "    </tr>\n",
       "    <tr>\n",
       "      <th>929</th>\n",
       "      <td>Pre-PQ Process</td>\n",
       "      <td>N/A - From RDC</td>\n",
       "    </tr>\n",
       "    <tr>\n",
       "      <th>930</th>\n",
       "      <td>Pre-PQ Process</td>\n",
       "      <td>N/A - From RDC</td>\n",
       "    </tr>\n",
       "    <tr>\n",
       "      <th>931</th>\n",
       "      <td>Pre-PQ Process</td>\n",
       "      <td>N/A - From RDC</td>\n",
       "    </tr>\n",
       "    <tr>\n",
       "      <th>...</th>\n",
       "      <td>...</td>\n",
       "      <td>...</td>\n",
       "    </tr>\n",
       "    <tr>\n",
       "      <th>7871</th>\n",
       "      <td>10/17/2014</td>\n",
       "      <td>N/A - From RDC</td>\n",
       "    </tr>\n",
       "    <tr>\n",
       "      <th>7872</th>\n",
       "      <td>8/21/2014</td>\n",
       "      <td>N/A - From RDC</td>\n",
       "    </tr>\n",
       "    <tr>\n",
       "      <th>7873</th>\n",
       "      <td>11/3/2014</td>\n",
       "      <td>N/A - From RDC</td>\n",
       "    </tr>\n",
       "    <tr>\n",
       "      <th>7874</th>\n",
       "      <td>9/19/2014</td>\n",
       "      <td>N/A - From RDC</td>\n",
       "    </tr>\n",
       "    <tr>\n",
       "      <th>7875</th>\n",
       "      <td>5/4/2015</td>\n",
       "      <td>N/A - From RDC</td>\n",
       "    </tr>\n",
       "  </tbody>\n",
       "</table>\n",
       "<p>3193 rows × 2 columns</p>\n",
       "</div>"
      ],
      "text/plain": [
       "     PQ First Sent to Client Date PO Sent to Vendor Date\n",
       "927                Pre-PQ Process         N/A - From RDC\n",
       "928                Pre-PQ Process         N/A - From RDC\n",
       "929                Pre-PQ Process         N/A - From RDC\n",
       "930                Pre-PQ Process         N/A - From RDC\n",
       "931                Pre-PQ Process         N/A - From RDC\n",
       "...                           ...                    ...\n",
       "7871                   10/17/2014         N/A - From RDC\n",
       "7872                    8/21/2014         N/A - From RDC\n",
       "7873                    11/3/2014         N/A - From RDC\n",
       "7874                    9/19/2014         N/A - From RDC\n",
       "7875                     5/4/2015         N/A - From RDC\n",
       "\n",
       "[3193 rows x 2 columns]"
      ]
     },
     "execution_count": 206,
     "metadata": {},
     "output_type": "execute_result"
    }
   ],
   "source": [
    "df[df['PO Sent to Vendor Date']==\"N/A - From RDC\"][['PQ First Sent to Client Date','PO Sent to Vendor Date']]"
   ]
  },
  {
   "cell_type": "markdown",
   "id": "29060646",
   "metadata": {},
   "source": [
    "* Columns '**PQ First Sent to Client Date**' have values '**Pre-PQ Process**' and '**Date Not Captured**'.s \n",
    "* Column '**PO Sent to Vendor Date**' have values '**N/A - From RDC**' and '**Date Not Captured**'."
   ]
  },
  {
   "cell_type": "markdown",
   "id": "c158c18a",
   "metadata": {},
   "source": [
    "**Changing datatype of the columns to date**"
   ]
  },
  {
   "cell_type": "code",
   "execution_count": 207,
   "id": "a3d4af02",
   "metadata": {},
   "outputs": [
    {
     "data": {
      "text/plain": [
       "Scheduled Delivery Date     object\n",
       "Delivered to Client Date    object\n",
       "Delivery Recorded Date      object\n",
       "dtype: object"
      ]
     },
     "execution_count": 207,
     "metadata": {},
     "output_type": "execute_result"
    }
   ],
   "source": [
    "df[[ 'Scheduled Delivery Date', 'Delivered to Client Date',\n",
    "    'Delivery Recorded Date']].dtypes"
   ]
  },
  {
   "cell_type": "code",
   "execution_count": 208,
   "id": "ce7ba301",
   "metadata": {},
   "outputs": [],
   "source": [
    "df['Scheduled Delivery Date'] = pd.to_datetime(df['Scheduled Delivery Date']) \n",
    "df['Delivered to Client Date'] = pd.to_datetime(df['Delivered to Client Date']) \n",
    "df['Delivery Recorded Date'] = pd.to_datetime(df['Delivery Recorded Date']) "
   ]
  },
  {
   "cell_type": "code",
   "execution_count": 209,
   "id": "ba4b6d6d",
   "metadata": {},
   "outputs": [
    {
     "data": {
      "text/plain": [
       "Scheduled Delivery Date     datetime64[ns]\n",
       "Delivered to Client Date    datetime64[ns]\n",
       "Delivery Recorded Date      datetime64[ns]\n",
       "dtype: object"
      ]
     },
     "execution_count": 209,
     "metadata": {},
     "output_type": "execute_result"
    }
   ],
   "source": [
    "df[[ 'Scheduled Delivery Date', 'Delivered to Client Date',\n",
    "    'Delivery Recorded Date']].dtypes"
   ]
  },
  {
   "cell_type": "markdown",
   "id": "61f3d9ff",
   "metadata": {},
   "source": [
    "### Data Analysis\n",
    "---"
   ]
  },
  {
   "cell_type": "markdown",
   "id": "2def4ada",
   "metadata": {},
   "source": [
    "**Total Orders, Orderlines, Projects and Freight Cost**"
   ]
  },
  {
   "cell_type": "code",
   "execution_count": 210,
   "id": "06dcfe8f",
   "metadata": {},
   "outputs": [
    {
     "name": "stdout",
     "output_type": "stream",
     "text": [
      "Total no. of orders: 5572\n",
      "Total no. of orderlines: 6175\n",
      "Total no. of projects: 130\n",
      "$ 68687760.27\n"
     ]
    }
   ],
   "source": [
    "orders = df['PO / SO #'].nunique()\n",
    "print('Total no. of orders:',orders);\n",
    "\n",
    "orderlines = df['PO / SO #'].count()\n",
    "print('Total no. of orderlines:',orderlines);\n",
    "\n",
    "projects = df['Project Code'].nunique()\n",
    "print('Total no. of projects:',projects);\n",
    "\n",
    "total_freight = df['Freight Cost (USD)'].sum()\n",
    "print('$',total_freight)"
   ]
  },
  {
   "cell_type": "markdown",
   "id": "1623b3a1",
   "metadata": {},
   "source": [
    "**Total Freight Cost (USD) based on Country**"
   ]
  },
  {
   "cell_type": "code",
   "execution_count": 211,
   "id": "bb63bd54",
   "metadata": {},
   "outputs": [
    {
     "data": {
      "text/html": [
       "<div>\n",
       "<style scoped>\n",
       "    .dataframe tbody tr th:only-of-type {\n",
       "        vertical-align: middle;\n",
       "    }\n",
       "\n",
       "    .dataframe tbody tr th {\n",
       "        vertical-align: top;\n",
       "    }\n",
       "\n",
       "    .dataframe thead th {\n",
       "        text-align: right;\n",
       "    }\n",
       "</style>\n",
       "<table border=\"1\" class=\"dataframe\">\n",
       "  <thead>\n",
       "    <tr style=\"text-align: right;\">\n",
       "      <th></th>\n",
       "      <th>Country</th>\n",
       "      <th>Freight Cost (USD)</th>\n",
       "    </tr>\n",
       "  </thead>\n",
       "  <tbody>\n",
       "    <tr>\n",
       "      <th>0</th>\n",
       "      <td>Afghanistan</td>\n",
       "      <td>1081.05</td>\n",
       "    </tr>\n",
       "    <tr>\n",
       "      <th>1</th>\n",
       "      <td>Angola</td>\n",
       "      <td>32796.70</td>\n",
       "    </tr>\n",
       "    <tr>\n",
       "      <th>2</th>\n",
       "      <td>Benin</td>\n",
       "      <td>66015.17</td>\n",
       "    </tr>\n",
       "    <tr>\n",
       "      <th>3</th>\n",
       "      <td>Botswana</td>\n",
       "      <td>137930.17</td>\n",
       "    </tr>\n",
       "    <tr>\n",
       "      <th>4</th>\n",
       "      <td>Burundi</td>\n",
       "      <td>312042.32</td>\n",
       "    </tr>\n",
       "  </tbody>\n",
       "</table>\n",
       "</div>"
      ],
      "text/plain": [
       "       Country  Freight Cost (USD)\n",
       "0  Afghanistan             1081.05\n",
       "1       Angola            32796.70\n",
       "2        Benin            66015.17\n",
       "3     Botswana           137930.17\n",
       "4      Burundi           312042.32"
      ]
     },
     "execution_count": 211,
     "metadata": {},
     "output_type": "execute_result"
    }
   ],
   "source": [
    "country_summary = df.groupby('Country').sum().reset_index()\n",
    "country_summary = country_summary[['Country','Freight Cost (USD)']]\n",
    "country_summary.head()"
   ]
  },
  {
   "cell_type": "markdown",
   "id": "756e13a2",
   "metadata": {},
   "source": [
    "**Total Freight Cost (USD) based on Country and Shipment Mode**"
   ]
  },
  {
   "cell_type": "code",
   "execution_count": 212,
   "id": "0b70b851",
   "metadata": {},
   "outputs": [
    {
     "data": {
      "text/html": [
       "<div>\n",
       "<style scoped>\n",
       "    .dataframe tbody tr th:only-of-type {\n",
       "        vertical-align: middle;\n",
       "    }\n",
       "\n",
       "    .dataframe tbody tr th {\n",
       "        vertical-align: top;\n",
       "    }\n",
       "\n",
       "    .dataframe thead th {\n",
       "        text-align: right;\n",
       "    }\n",
       "</style>\n",
       "<table border=\"1\" class=\"dataframe\">\n",
       "  <thead>\n",
       "    <tr style=\"text-align: right;\">\n",
       "      <th></th>\n",
       "      <th>Country</th>\n",
       "      <th>Shipment Mode</th>\n",
       "      <th>Freight Cost (USD)</th>\n",
       "    </tr>\n",
       "  </thead>\n",
       "  <tbody>\n",
       "    <tr>\n",
       "      <th>0</th>\n",
       "      <td>Afghanistan</td>\n",
       "      <td>Air</td>\n",
       "      <td>1081.05</td>\n",
       "    </tr>\n",
       "    <tr>\n",
       "      <th>1</th>\n",
       "      <td>Angola</td>\n",
       "      <td>Air</td>\n",
       "      <td>30832.07</td>\n",
       "    </tr>\n",
       "    <tr>\n",
       "      <th>2</th>\n",
       "      <td>Angola</td>\n",
       "      <td>Truck</td>\n",
       "      <td>1964.63</td>\n",
       "    </tr>\n",
       "    <tr>\n",
       "      <th>3</th>\n",
       "      <td>Benin</td>\n",
       "      <td>Air</td>\n",
       "      <td>66015.17</td>\n",
       "    </tr>\n",
       "    <tr>\n",
       "      <th>4</th>\n",
       "      <td>Botswana</td>\n",
       "      <td>Air</td>\n",
       "      <td>133841.79</td>\n",
       "    </tr>\n",
       "    <tr>\n",
       "      <th>...</th>\n",
       "      <td>...</td>\n",
       "      <td>...</td>\n",
       "      <td>...</td>\n",
       "    </tr>\n",
       "    <tr>\n",
       "      <th>71</th>\n",
       "      <td>Zambia</td>\n",
       "      <td>Truck</td>\n",
       "      <td>2712772.79</td>\n",
       "    </tr>\n",
       "    <tr>\n",
       "      <th>72</th>\n",
       "      <td>Zimbabwe</td>\n",
       "      <td>Air</td>\n",
       "      <td>1534030.08</td>\n",
       "    </tr>\n",
       "    <tr>\n",
       "      <th>73</th>\n",
       "      <td>Zimbabwe</td>\n",
       "      <td>Air Charter</td>\n",
       "      <td>527163.62</td>\n",
       "    </tr>\n",
       "    <tr>\n",
       "      <th>74</th>\n",
       "      <td>Zimbabwe</td>\n",
       "      <td>Ocean</td>\n",
       "      <td>63459.07</td>\n",
       "    </tr>\n",
       "    <tr>\n",
       "      <th>75</th>\n",
       "      <td>Zimbabwe</td>\n",
       "      <td>Truck</td>\n",
       "      <td>2181588.00</td>\n",
       "    </tr>\n",
       "  </tbody>\n",
       "</table>\n",
       "<p>76 rows × 3 columns</p>\n",
       "</div>"
      ],
      "text/plain": [
       "        Country Shipment Mode  Freight Cost (USD)\n",
       "0   Afghanistan           Air             1081.05\n",
       "1        Angola           Air            30832.07\n",
       "2        Angola         Truck             1964.63\n",
       "3         Benin           Air            66015.17\n",
       "4      Botswana           Air           133841.79\n",
       "..          ...           ...                 ...\n",
       "71       Zambia         Truck          2712772.79\n",
       "72     Zimbabwe           Air          1534030.08\n",
       "73     Zimbabwe   Air Charter           527163.62\n",
       "74     Zimbabwe         Ocean            63459.07\n",
       "75     Zimbabwe         Truck          2181588.00\n",
       "\n",
       "[76 rows x 3 columns]"
      ]
     },
     "execution_count": 212,
     "metadata": {},
     "output_type": "execute_result"
    }
   ],
   "source": [
    "country_summary = df.groupby(['Country','Shipment Mode']).sum().reset_index()\n",
    "country_summary = country_summary[['Country','Shipment Mode','Freight Cost (USD)']]\n",
    "country_summary"
   ]
  },
  {
   "cell_type": "markdown",
   "id": "30ae47a5",
   "metadata": {},
   "source": [
    "**Total Freight Cost (USD) based on Country and Shipment Mode along with count of orders**"
   ]
  },
  {
   "cell_type": "code",
   "execution_count": 213,
   "id": "a4dc0418",
   "metadata": {},
   "outputs": [
    {
     "data": {
      "text/html": [
       "<div>\n",
       "<style scoped>\n",
       "    .dataframe tbody tr th:only-of-type {\n",
       "        vertical-align: middle;\n",
       "    }\n",
       "\n",
       "    .dataframe tbody tr th {\n",
       "        vertical-align: top;\n",
       "    }\n",
       "\n",
       "    .dataframe thead th {\n",
       "        text-align: right;\n",
       "    }\n",
       "</style>\n",
       "<table border=\"1\" class=\"dataframe\">\n",
       "  <thead>\n",
       "    <tr style=\"text-align: right;\">\n",
       "      <th></th>\n",
       "      <th>Country</th>\n",
       "      <th>Shipment Mode</th>\n",
       "      <th>PO / SO #</th>\n",
       "      <th>Freight Cost (USD)</th>\n",
       "    </tr>\n",
       "  </thead>\n",
       "  <tbody>\n",
       "    <tr>\n",
       "      <th>0</th>\n",
       "      <td>Afghanistan</td>\n",
       "      <td>Air</td>\n",
       "      <td>2</td>\n",
       "      <td>1081.05</td>\n",
       "    </tr>\n",
       "    <tr>\n",
       "      <th>1</th>\n",
       "      <td>Angola</td>\n",
       "      <td>Air</td>\n",
       "      <td>5</td>\n",
       "      <td>30832.07</td>\n",
       "    </tr>\n",
       "    <tr>\n",
       "      <th>2</th>\n",
       "      <td>Angola</td>\n",
       "      <td>Truck</td>\n",
       "      <td>2</td>\n",
       "      <td>1964.63</td>\n",
       "    </tr>\n",
       "    <tr>\n",
       "      <th>3</th>\n",
       "      <td>Benin</td>\n",
       "      <td>Air</td>\n",
       "      <td>7</td>\n",
       "      <td>66015.17</td>\n",
       "    </tr>\n",
       "    <tr>\n",
       "      <th>4</th>\n",
       "      <td>Botswana</td>\n",
       "      <td>Air</td>\n",
       "      <td>58</td>\n",
       "      <td>133841.79</td>\n",
       "    </tr>\n",
       "    <tr>\n",
       "      <th>...</th>\n",
       "      <td>...</td>\n",
       "      <td>...</td>\n",
       "      <td>...</td>\n",
       "      <td>...</td>\n",
       "    </tr>\n",
       "    <tr>\n",
       "      <th>71</th>\n",
       "      <td>Zambia</td>\n",
       "      <td>Truck</td>\n",
       "      <td>263</td>\n",
       "      <td>2712772.79</td>\n",
       "    </tr>\n",
       "    <tr>\n",
       "      <th>72</th>\n",
       "      <td>Zimbabwe</td>\n",
       "      <td>Air</td>\n",
       "      <td>98</td>\n",
       "      <td>1534030.08</td>\n",
       "    </tr>\n",
       "    <tr>\n",
       "      <th>73</th>\n",
       "      <td>Zimbabwe</td>\n",
       "      <td>Air Charter</td>\n",
       "      <td>17</td>\n",
       "      <td>527163.62</td>\n",
       "    </tr>\n",
       "    <tr>\n",
       "      <th>74</th>\n",
       "      <td>Zimbabwe</td>\n",
       "      <td>Ocean</td>\n",
       "      <td>3</td>\n",
       "      <td>63459.07</td>\n",
       "    </tr>\n",
       "    <tr>\n",
       "      <th>75</th>\n",
       "      <td>Zimbabwe</td>\n",
       "      <td>Truck</td>\n",
       "      <td>191</td>\n",
       "      <td>2181588.00</td>\n",
       "    </tr>\n",
       "  </tbody>\n",
       "</table>\n",
       "<p>76 rows × 4 columns</p>\n",
       "</div>"
      ],
      "text/plain": [
       "        Country Shipment Mode  PO / SO #  Freight Cost (USD)\n",
       "0   Afghanistan           Air          2             1081.05\n",
       "1        Angola           Air          5            30832.07\n",
       "2        Angola         Truck          2             1964.63\n",
       "3         Benin           Air          7            66015.17\n",
       "4      Botswana           Air         58           133841.79\n",
       "..          ...           ...        ...                 ...\n",
       "71       Zambia         Truck        263          2712772.79\n",
       "72     Zimbabwe           Air         98          1534030.08\n",
       "73     Zimbabwe   Air Charter         17           527163.62\n",
       "74     Zimbabwe         Ocean          3            63459.07\n",
       "75     Zimbabwe         Truck        191          2181588.00\n",
       "\n",
       "[76 rows x 4 columns]"
      ]
     },
     "execution_count": 213,
     "metadata": {},
     "output_type": "execute_result"
    }
   ],
   "source": [
    "country_summary = df.groupby(['Country','Shipment Mode']).agg({'PO / SO #' : 'count','Freight Cost (USD)':'sum'}).reset_index()\n",
    "country_summary"
   ]
  },
  {
   "cell_type": "markdown",
   "id": "ad0d6d73",
   "metadata": {},
   "source": [
    "**Total Freight Cost (USD) based on Country and Shipment Mode along with count of orders and cost of each order**"
   ]
  },
  {
   "cell_type": "code",
   "execution_count": 214,
   "id": "e8ea522d",
   "metadata": {},
   "outputs": [
    {
     "data": {
      "text/html": [
       "<div>\n",
       "<style scoped>\n",
       "    .dataframe tbody tr th:only-of-type {\n",
       "        vertical-align: middle;\n",
       "    }\n",
       "\n",
       "    .dataframe tbody tr th {\n",
       "        vertical-align: top;\n",
       "    }\n",
       "\n",
       "    .dataframe thead th {\n",
       "        text-align: right;\n",
       "    }\n",
       "</style>\n",
       "<table border=\"1\" class=\"dataframe\">\n",
       "  <thead>\n",
       "    <tr style=\"text-align: right;\">\n",
       "      <th></th>\n",
       "      <th>Country</th>\n",
       "      <th>Shipment Mode</th>\n",
       "      <th>PO / SO #</th>\n",
       "      <th>Freight Cost (USD)</th>\n",
       "      <th>Freight_cost_per_order</th>\n",
       "    </tr>\n",
       "  </thead>\n",
       "  <tbody>\n",
       "    <tr>\n",
       "      <th>0</th>\n",
       "      <td>Afghanistan</td>\n",
       "      <td>Air</td>\n",
       "      <td>2</td>\n",
       "      <td>1081.05</td>\n",
       "      <td>540.525000</td>\n",
       "    </tr>\n",
       "    <tr>\n",
       "      <th>1</th>\n",
       "      <td>Angola</td>\n",
       "      <td>Air</td>\n",
       "      <td>5</td>\n",
       "      <td>30832.07</td>\n",
       "      <td>6166.414000</td>\n",
       "    </tr>\n",
       "    <tr>\n",
       "      <th>2</th>\n",
       "      <td>Angola</td>\n",
       "      <td>Truck</td>\n",
       "      <td>2</td>\n",
       "      <td>1964.63</td>\n",
       "      <td>982.315000</td>\n",
       "    </tr>\n",
       "    <tr>\n",
       "      <th>3</th>\n",
       "      <td>Benin</td>\n",
       "      <td>Air</td>\n",
       "      <td>7</td>\n",
       "      <td>66015.17</td>\n",
       "      <td>9430.738571</td>\n",
       "    </tr>\n",
       "    <tr>\n",
       "      <th>4</th>\n",
       "      <td>Botswana</td>\n",
       "      <td>Air</td>\n",
       "      <td>58</td>\n",
       "      <td>133841.79</td>\n",
       "      <td>2307.617069</td>\n",
       "    </tr>\n",
       "    <tr>\n",
       "      <th>...</th>\n",
       "      <td>...</td>\n",
       "      <td>...</td>\n",
       "      <td>...</td>\n",
       "      <td>...</td>\n",
       "      <td>...</td>\n",
       "    </tr>\n",
       "    <tr>\n",
       "      <th>71</th>\n",
       "      <td>Zambia</td>\n",
       "      <td>Truck</td>\n",
       "      <td>263</td>\n",
       "      <td>2712772.79</td>\n",
       "      <td>10314.725437</td>\n",
       "    </tr>\n",
       "    <tr>\n",
       "      <th>72</th>\n",
       "      <td>Zimbabwe</td>\n",
       "      <td>Air</td>\n",
       "      <td>98</td>\n",
       "      <td>1534030.08</td>\n",
       "      <td>15653.368163</td>\n",
       "    </tr>\n",
       "    <tr>\n",
       "      <th>73</th>\n",
       "      <td>Zimbabwe</td>\n",
       "      <td>Air Charter</td>\n",
       "      <td>17</td>\n",
       "      <td>527163.62</td>\n",
       "      <td>31009.624706</td>\n",
       "    </tr>\n",
       "    <tr>\n",
       "      <th>74</th>\n",
       "      <td>Zimbabwe</td>\n",
       "      <td>Ocean</td>\n",
       "      <td>3</td>\n",
       "      <td>63459.07</td>\n",
       "      <td>21153.023333</td>\n",
       "    </tr>\n",
       "    <tr>\n",
       "      <th>75</th>\n",
       "      <td>Zimbabwe</td>\n",
       "      <td>Truck</td>\n",
       "      <td>191</td>\n",
       "      <td>2181588.00</td>\n",
       "      <td>11421.926702</td>\n",
       "    </tr>\n",
       "  </tbody>\n",
       "</table>\n",
       "<p>76 rows × 5 columns</p>\n",
       "</div>"
      ],
      "text/plain": [
       "        Country Shipment Mode  PO / SO #  Freight Cost (USD)  \\\n",
       "0   Afghanistan           Air          2             1081.05   \n",
       "1        Angola           Air          5            30832.07   \n",
       "2        Angola         Truck          2             1964.63   \n",
       "3         Benin           Air          7            66015.17   \n",
       "4      Botswana           Air         58           133841.79   \n",
       "..          ...           ...        ...                 ...   \n",
       "71       Zambia         Truck        263          2712772.79   \n",
       "72     Zimbabwe           Air         98          1534030.08   \n",
       "73     Zimbabwe   Air Charter         17           527163.62   \n",
       "74     Zimbabwe         Ocean          3            63459.07   \n",
       "75     Zimbabwe         Truck        191          2181588.00   \n",
       "\n",
       "    Freight_cost_per_order  \n",
       "0               540.525000  \n",
       "1              6166.414000  \n",
       "2               982.315000  \n",
       "3              9430.738571  \n",
       "4              2307.617069  \n",
       "..                     ...  \n",
       "71            10314.725437  \n",
       "72            15653.368163  \n",
       "73            31009.624706  \n",
       "74            21153.023333  \n",
       "75            11421.926702  \n",
       "\n",
       "[76 rows x 5 columns]"
      ]
     },
     "execution_count": 214,
     "metadata": {},
     "output_type": "execute_result"
    }
   ],
   "source": [
    "country_summary['Freight_cost_per_order'] = country_summary['Freight Cost (USD)']/country_summary['PO / SO #']\n",
    "country_summary"
   ]
  },
  {
   "cell_type": "markdown",
   "id": "2ee3a2c1",
   "metadata": {},
   "source": [
    "**Freight Cost (USD) by Manufacturing Site**"
   ]
  },
  {
   "cell_type": "code",
   "execution_count": 215,
   "id": "85020c9a",
   "metadata": {},
   "outputs": [
    {
     "data": {
      "text/html": [
       "<div>\n",
       "<style scoped>\n",
       "    .dataframe tbody tr th:only-of-type {\n",
       "        vertical-align: middle;\n",
       "    }\n",
       "\n",
       "    .dataframe tbody tr th {\n",
       "        vertical-align: top;\n",
       "    }\n",
       "\n",
       "    .dataframe thead th {\n",
       "        text-align: right;\n",
       "    }\n",
       "</style>\n",
       "<table border=\"1\" class=\"dataframe\">\n",
       "  <thead>\n",
       "    <tr style=\"text-align: right;\">\n",
       "      <th></th>\n",
       "      <th>Manufacturing Site</th>\n",
       "      <th>Freight Cost (USD)</th>\n",
       "    </tr>\n",
       "  </thead>\n",
       "  <tbody>\n",
       "    <tr>\n",
       "      <th>0</th>\n",
       "      <td>ABBVIE (Abbott) France</td>\n",
       "      <td>6</td>\n",
       "    </tr>\n",
       "    <tr>\n",
       "      <th>1</th>\n",
       "      <td>ABBVIE (Abbott) Logis. UK</td>\n",
       "      <td>125</td>\n",
       "    </tr>\n",
       "    <tr>\n",
       "      <th>2</th>\n",
       "      <td>ABBVIE (Abbott) St. P'burg USA</td>\n",
       "      <td>2</td>\n",
       "    </tr>\n",
       "    <tr>\n",
       "      <th>3</th>\n",
       "      <td>ABBVIE GmbH &amp; Co.KG Wiesbaden</td>\n",
       "      <td>34</td>\n",
       "    </tr>\n",
       "    <tr>\n",
       "      <th>4</th>\n",
       "      <td>ABBVIE Ludwigshafen Germany</td>\n",
       "      <td>277</td>\n",
       "    </tr>\n",
       "    <tr>\n",
       "      <th>...</th>\n",
       "      <td>...</td>\n",
       "      <td>...</td>\n",
       "    </tr>\n",
       "    <tr>\n",
       "      <th>70</th>\n",
       "      <td>Standard Diagnostics, Korea</td>\n",
       "      <td>102</td>\n",
       "    </tr>\n",
       "    <tr>\n",
       "      <th>71</th>\n",
       "      <td>Strides, Bangalore, India.</td>\n",
       "      <td>320</td>\n",
       "    </tr>\n",
       "    <tr>\n",
       "      <th>72</th>\n",
       "      <td>Trinity Biotech, Plc</td>\n",
       "      <td>305</td>\n",
       "    </tr>\n",
       "    <tr>\n",
       "      <th>73</th>\n",
       "      <td>Weifa A.S., Hausmanngt. 6, P.O. Box 9113 GrÃ¸n...</td>\n",
       "      <td>1</td>\n",
       "    </tr>\n",
       "    <tr>\n",
       "      <th>74</th>\n",
       "      <td>bioLytical Laboratories</td>\n",
       "      <td>3</td>\n",
       "    </tr>\n",
       "  </tbody>\n",
       "</table>\n",
       "<p>75 rows × 2 columns</p>\n",
       "</div>"
      ],
      "text/plain": [
       "                                   Manufacturing Site  Freight Cost (USD)\n",
       "0                              ABBVIE (Abbott) France                   6\n",
       "1                           ABBVIE (Abbott) Logis. UK                 125\n",
       "2                      ABBVIE (Abbott) St. P'burg USA                   2\n",
       "3                       ABBVIE GmbH & Co.KG Wiesbaden                  34\n",
       "4                         ABBVIE Ludwigshafen Germany                 277\n",
       "..                                                ...                 ...\n",
       "70                        Standard Diagnostics, Korea                 102\n",
       "71                         Strides, Bangalore, India.                 320\n",
       "72                               Trinity Biotech, Plc                 305\n",
       "73  Weifa A.S., Hausmanngt. 6, P.O. Box 9113 GrÃ¸n...                   1\n",
       "74                            bioLytical Laboratories                   3\n",
       "\n",
       "[75 rows x 2 columns]"
      ]
     },
     "execution_count": 215,
     "metadata": {},
     "output_type": "execute_result"
    }
   ],
   "source": [
    "mf_summary = df.groupby('Manufacturing Site').count().reset_index()\n",
    "mf_summary[['Manufacturing Site','Freight Cost (USD)']]"
   ]
  },
  {
   "cell_type": "markdown",
   "id": "018f194a",
   "metadata": {},
   "source": [
    "**Total Freight Cost (USD) based on Manufacturing Site and count of orders**"
   ]
  },
  {
   "cell_type": "code",
   "execution_count": 216,
   "id": "1fe906ab",
   "metadata": {},
   "outputs": [
    {
     "data": {
      "text/html": [
       "<div>\n",
       "<style scoped>\n",
       "    .dataframe tbody tr th:only-of-type {\n",
       "        vertical-align: middle;\n",
       "    }\n",
       "\n",
       "    .dataframe tbody tr th {\n",
       "        vertical-align: top;\n",
       "    }\n",
       "\n",
       "    .dataframe thead th {\n",
       "        text-align: right;\n",
       "    }\n",
       "</style>\n",
       "<table border=\"1\" class=\"dataframe\">\n",
       "  <thead>\n",
       "    <tr style=\"text-align: right;\">\n",
       "      <th></th>\n",
       "      <th>Manufacturing Site</th>\n",
       "      <th>PO / SO #</th>\n",
       "      <th>Freight Cost (USD)</th>\n",
       "    </tr>\n",
       "  </thead>\n",
       "  <tbody>\n",
       "    <tr>\n",
       "      <th>0</th>\n",
       "      <td>ABBVIE (Abbott) France</td>\n",
       "      <td>6</td>\n",
       "      <td>29262.03</td>\n",
       "    </tr>\n",
       "    <tr>\n",
       "      <th>1</th>\n",
       "      <td>ABBVIE (Abbott) Logis. UK</td>\n",
       "      <td>125</td>\n",
       "      <td>938805.39</td>\n",
       "    </tr>\n",
       "    <tr>\n",
       "      <th>2</th>\n",
       "      <td>ABBVIE (Abbott) St. P'burg USA</td>\n",
       "      <td>2</td>\n",
       "      <td>7952.82</td>\n",
       "    </tr>\n",
       "    <tr>\n",
       "      <th>3</th>\n",
       "      <td>ABBVIE GmbH &amp; Co.KG Wiesbaden</td>\n",
       "      <td>34</td>\n",
       "      <td>119679.70</td>\n",
       "    </tr>\n",
       "    <tr>\n",
       "      <th>4</th>\n",
       "      <td>ABBVIE Ludwigshafen Germany</td>\n",
       "      <td>277</td>\n",
       "      <td>1773632.59</td>\n",
       "    </tr>\n",
       "    <tr>\n",
       "      <th>...</th>\n",
       "      <td>...</td>\n",
       "      <td>...</td>\n",
       "      <td>...</td>\n",
       "    </tr>\n",
       "    <tr>\n",
       "      <th>70</th>\n",
       "      <td>Standard Diagnostics, Korea</td>\n",
       "      <td>102</td>\n",
       "      <td>1212535.16</td>\n",
       "    </tr>\n",
       "    <tr>\n",
       "      <th>71</th>\n",
       "      <td>Strides, Bangalore, India.</td>\n",
       "      <td>320</td>\n",
       "      <td>3738725.17</td>\n",
       "    </tr>\n",
       "    <tr>\n",
       "      <th>72</th>\n",
       "      <td>Trinity Biotech, Plc</td>\n",
       "      <td>305</td>\n",
       "      <td>2459749.51</td>\n",
       "    </tr>\n",
       "    <tr>\n",
       "      <th>73</th>\n",
       "      <td>Weifa A.S., Hausmanngt. 6, P.O. Box 9113 GrÃ¸n...</td>\n",
       "      <td>1</td>\n",
       "      <td>399.18</td>\n",
       "    </tr>\n",
       "    <tr>\n",
       "      <th>74</th>\n",
       "      <td>bioLytical Laboratories</td>\n",
       "      <td>3</td>\n",
       "      <td>10284.91</td>\n",
       "    </tr>\n",
       "  </tbody>\n",
       "</table>\n",
       "<p>75 rows × 3 columns</p>\n",
       "</div>"
      ],
      "text/plain": [
       "                                   Manufacturing Site  PO / SO #  \\\n",
       "0                              ABBVIE (Abbott) France          6   \n",
       "1                           ABBVIE (Abbott) Logis. UK        125   \n",
       "2                      ABBVIE (Abbott) St. P'burg USA          2   \n",
       "3                       ABBVIE GmbH & Co.KG Wiesbaden         34   \n",
       "4                         ABBVIE Ludwigshafen Germany        277   \n",
       "..                                                ...        ...   \n",
       "70                        Standard Diagnostics, Korea        102   \n",
       "71                         Strides, Bangalore, India.        320   \n",
       "72                               Trinity Biotech, Plc        305   \n",
       "73  Weifa A.S., Hausmanngt. 6, P.O. Box 9113 GrÃ¸n...          1   \n",
       "74                            bioLytical Laboratories          3   \n",
       "\n",
       "    Freight Cost (USD)  \n",
       "0             29262.03  \n",
       "1            938805.39  \n",
       "2              7952.82  \n",
       "3            119679.70  \n",
       "4           1773632.59  \n",
       "..                 ...  \n",
       "70          1212535.16  \n",
       "71          3738725.17  \n",
       "72          2459749.51  \n",
       "73              399.18  \n",
       "74            10284.91  \n",
       "\n",
       "[75 rows x 3 columns]"
      ]
     },
     "execution_count": 216,
     "metadata": {},
     "output_type": "execute_result"
    }
   ],
   "source": [
    "mf_summary = df.groupby('Manufacturing Site').agg({'PO / SO #':'count','Freight Cost (USD)':'sum'}).reset_index()\n",
    "mf_summary"
   ]
  },
  {
   "cell_type": "markdown",
   "id": "d3369a9f",
   "metadata": {},
   "source": [
    "### Data Visualization and Analysis\n",
    "---"
   ]
  },
  {
   "cell_type": "markdown",
   "id": "b16a0a25",
   "metadata": {},
   "source": [
    "**Freight Cost per order by Country**"
   ]
  },
  {
   "cell_type": "code",
   "execution_count": 217,
   "id": "12f68044",
   "metadata": {},
   "outputs": [
    {
     "data": {
      "image/png": "[encoded data removed]",
      "text/plain": [
       "<Figure size 864x576 with 1 Axes>"
      ]
     },
     "metadata": {
      "needs_background": "light"
     },
     "output_type": "display_data"
    }
   ],
   "source": [
    "plt.figure(figsize=(12,8))\n",
    "\n",
    "sns.set(font_scale = 1.5, palette = 'dark')\n",
    "\n",
    "axes = sns.barplot(data=country_summary,x='Country',y='Freight_cost_per_order',ci=None,estimator=sum)\n",
    "plt.title('Freight Cost per order by Country')\n",
    "\n",
    "for p in axes.patches:\n",
    "    ht = p.get_height()\n",
    "    axes.text(x=p.get_x()+(p.get_width()/2),\n",
    "             y=ht+10,\n",
    "             ha='center',\n",
    "             s='{:.0f}'.format(ht))\n",
    "    \n",
    "plt.xticks(rotation='vertical')\n",
    "plt.show()"
   ]
  },
  {
   "cell_type": "markdown",
   "id": "dd6152cc",
   "metadata": {},
   "source": [
    "**Freight Cost per order by Shipment Mode**"
   ]
  },
  {
   "cell_type": "code",
   "execution_count": 218,
   "id": "37ae20ae",
   "metadata": {},
   "outputs": [
    {
     "data": {
      "image/png": "[encoded data removed]",
      "text/plain": [
       "<Figure size 576x360 with 1 Axes>"
      ]
     },
     "metadata": {},
     "output_type": "display_data"
    }
   ],
   "source": [
    "plt.figure(figsize=(8,5))\n",
    "\n",
    "sns.set(font_scale = 1.5, palette = 'dark')\n",
    "\n",
    "axes = sns.barplot(data=country_summary,\n",
    "                   x='Shipment Mode',\n",
    "                   y='Freight_cost_per_order',ci=None,estimator=sum)\n",
    "plt.title('Freight Cost per order by Shipment Mode')\n",
    "\n",
    "for p in axes.patches:\n",
    "    ht = p.get_height()\n",
    "    axes.text(x=p.get_x()+(p.get_width()/2),\n",
    "             y=ht+10,\n",
    "             ha='center',\n",
    "             s='{:.0f}'.format(ht))\n",
    "    \n",
    "plt.xticks(rotation='vertical')\n",
    "plt.show()         "
   ]
  },
  {
   "cell_type": "markdown",
   "id": "25c7926c",
   "metadata": {},
   "source": [
    "**Top 10 Countries by total Freight Cost (USD)**"
   ]
  },
  {
   "cell_type": "code",
   "execution_count": 219,
   "id": "1ab078e7",
   "metadata": {},
   "outputs": [
    {
     "data": {
      "text/html": [
       "<div>\n",
       "<style scoped>\n",
       "    .dataframe tbody tr th:only-of-type {\n",
       "        vertical-align: middle;\n",
       "    }\n",
       "\n",
       "    .dataframe tbody tr th {\n",
       "        vertical-align: top;\n",
       "    }\n",
       "\n",
       "    .dataframe thead th {\n",
       "        text-align: right;\n",
       "    }\n",
       "</style>\n",
       "<table border=\"1\" class=\"dataframe\">\n",
       "  <thead>\n",
       "    <tr style=\"text-align: right;\">\n",
       "      <th></th>\n",
       "      <th>Country</th>\n",
       "      <th>Freight Cost (USD)</th>\n",
       "    </tr>\n",
       "  </thead>\n",
       "  <tbody>\n",
       "    <tr>\n",
       "      <th>0</th>\n",
       "      <td>Nigeria</td>\n",
       "      <td>14227197.64</td>\n",
       "    </tr>\n",
       "    <tr>\n",
       "      <th>1</th>\n",
       "      <td>Zambia</td>\n",
       "      <td>6309186.49</td>\n",
       "    </tr>\n",
       "    <tr>\n",
       "      <th>2</th>\n",
       "      <td>Côte d'Ivoire</td>\n",
       "      <td>6092165.51</td>\n",
       "    </tr>\n",
       "    <tr>\n",
       "      <th>3</th>\n",
       "      <td>Rwanda</td>\n",
       "      <td>5890687.72</td>\n",
       "    </tr>\n",
       "    <tr>\n",
       "      <th>4</th>\n",
       "      <td>Uganda</td>\n",
       "      <td>5484292.24</td>\n",
       "    </tr>\n",
       "    <tr>\n",
       "      <th>5</th>\n",
       "      <td>Tanzania</td>\n",
       "      <td>4812951.90</td>\n",
       "    </tr>\n",
       "    <tr>\n",
       "      <th>6</th>\n",
       "      <td>Zimbabwe</td>\n",
       "      <td>4318000.86</td>\n",
       "    </tr>\n",
       "    <tr>\n",
       "      <th>7</th>\n",
       "      <td>Haiti</td>\n",
       "      <td>3999521.29</td>\n",
       "    </tr>\n",
       "    <tr>\n",
       "      <th>8</th>\n",
       "      <td>Mozambique</td>\n",
       "      <td>3277455.32</td>\n",
       "    </tr>\n",
       "    <tr>\n",
       "      <th>9</th>\n",
       "      <td>Vietnam</td>\n",
       "      <td>2735875.80</td>\n",
       "    </tr>\n",
       "  </tbody>\n",
       "</table>\n",
       "</div>"
      ],
      "text/plain": [
       "         Country  Freight Cost (USD)\n",
       "0        Nigeria         14227197.64\n",
       "1         Zambia          6309186.49\n",
       "2  Côte d'Ivoire          6092165.51\n",
       "3         Rwanda          5890687.72\n",
       "4         Uganda          5484292.24\n",
       "5       Tanzania          4812951.90\n",
       "6       Zimbabwe          4318000.86\n",
       "7          Haiti          3999521.29\n",
       "8     Mozambique          3277455.32\n",
       "9        Vietnam          2735875.80"
      ]
     },
     "execution_count": 219,
     "metadata": {},
     "output_type": "execute_result"
    }
   ],
   "source": [
    "totalfreight = df.groupby('Country')['Freight Cost (USD)'].sum().nlargest(10).reset_index()\n",
    "totalfreight"
   ]
  },
  {
   "cell_type": "code",
   "execution_count": 220,
   "id": "a3f1f76a",
   "metadata": {},
   "outputs": [
    {
     "data": {
      "image/png": "[encoded data removed]",
      "text/plain": [
       "<Figure size 936x360 with 1 Axes>"
      ]
     },
     "metadata": {},
     "output_type": "display_data"
    }
   ],
   "source": [
    "plt.figure(figsize=(13,5))\n",
    "\n",
    "axes = sns.barplot(x='Country',\n",
    "                  y='Freight Cost (USD)',\n",
    "                   data=totalfreight)\n",
    "plt.title('Top 10 Countries by total Freight Cost (USD)')\n",
    "\n",
    "\n",
    "for p in axes.patches:\n",
    "    ht = p.get_height()\n",
    "    axes.text(x=p.get_x()+(p.get_width()/2),\n",
    "             y=ht+10,\n",
    "             ha='center',\n",
    "             s=\"{:.0f}\".format(ht))\n",
    "\n",
    "plt.xlabel('Country')\n",
    "plt.ylabel('Total Freight Cost')\n",
    "\n",
    "plt.xticks(rotation='vertical')\n",
    "plt.show()   "
   ]
  },
  {
   "cell_type": "markdown",
   "id": "09b37e18",
   "metadata": {},
   "source": [
    "**Top 10 Manufacturing Site by Freight Cost (USD)**"
   ]
  },
  {
   "cell_type": "code",
   "execution_count": 221,
   "id": "4477deec",
   "metadata": {},
   "outputs": [
    {
     "data": {
      "text/html": [
       "<div>\n",
       "<style scoped>\n",
       "    .dataframe tbody tr th:only-of-type {\n",
       "        vertical-align: middle;\n",
       "    }\n",
       "\n",
       "    .dataframe tbody tr th {\n",
       "        vertical-align: top;\n",
       "    }\n",
       "\n",
       "    .dataframe thead th {\n",
       "        text-align: right;\n",
       "    }\n",
       "</style>\n",
       "<table border=\"1\" class=\"dataframe\">\n",
       "  <thead>\n",
       "    <tr style=\"text-align: right;\">\n",
       "      <th></th>\n",
       "      <th>Manufacturing Site</th>\n",
       "      <th>Freight Cost (USD)</th>\n",
       "    </tr>\n",
       "  </thead>\n",
       "  <tbody>\n",
       "    <tr>\n",
       "      <th>8</th>\n",
       "      <td>Aurobindo Unit III, India</td>\n",
       "      <td>16158534.80</td>\n",
       "    </tr>\n",
       "    <tr>\n",
       "      <th>52</th>\n",
       "      <td>Mylan (formerly Matrix) Nashik</td>\n",
       "      <td>11568067.44</td>\n",
       "    </tr>\n",
       "    <tr>\n",
       "      <th>6</th>\n",
       "      <td>Alere Medical Co., Ltd.</td>\n",
       "      <td>7109931.22</td>\n",
       "    </tr>\n",
       "    <tr>\n",
       "      <th>29</th>\n",
       "      <td>Hetero Unit III Hyderabad IN</td>\n",
       "      <td>6898490.39</td>\n",
       "    </tr>\n",
       "    <tr>\n",
       "      <th>16</th>\n",
       "      <td>Cipla, Goa, India</td>\n",
       "      <td>4754497.47</td>\n",
       "    </tr>\n",
       "    <tr>\n",
       "      <th>71</th>\n",
       "      <td>Strides, Bangalore, India.</td>\n",
       "      <td>3738725.17</td>\n",
       "    </tr>\n",
       "    <tr>\n",
       "      <th>34</th>\n",
       "      <td>Inverness Japan</td>\n",
       "      <td>2989536.93</td>\n",
       "    </tr>\n",
       "    <tr>\n",
       "      <th>72</th>\n",
       "      <td>Trinity Biotech, Plc</td>\n",
       "      <td>2459749.51</td>\n",
       "    </tr>\n",
       "    <tr>\n",
       "      <th>39</th>\n",
       "      <td>KHB Test Kit Facility, Shanghai China</td>\n",
       "      <td>2383953.19</td>\n",
       "    </tr>\n",
       "    <tr>\n",
       "      <th>4</th>\n",
       "      <td>ABBVIE Ludwigshafen Germany</td>\n",
       "      <td>1773632.59</td>\n",
       "    </tr>\n",
       "  </tbody>\n",
       "</table>\n",
       "</div>"
      ],
      "text/plain": [
       "                       Manufacturing Site  Freight Cost (USD)\n",
       "8               Aurobindo Unit III, India         16158534.80\n",
       "52         Mylan (formerly Matrix) Nashik         11568067.44\n",
       "6                 Alere Medical Co., Ltd.          7109931.22\n",
       "29           Hetero Unit III Hyderabad IN          6898490.39\n",
       "16                      Cipla, Goa, India          4754497.47\n",
       "71             Strides, Bangalore, India.          3738725.17\n",
       "34                        Inverness Japan          2989536.93\n",
       "72                   Trinity Biotech, Plc          2459749.51\n",
       "39  KHB Test Kit Facility, Shanghai China          2383953.19\n",
       "4             ABBVIE Ludwigshafen Germany          1773632.59"
      ]
     },
     "execution_count": 221,
     "metadata": {},
     "output_type": "execute_result"
    }
   ],
   "source": [
    "top_10_mf_site_by_fc = mf_summary[['Manufacturing Site','Freight Cost (USD)']].nlargest(10,'Freight Cost (USD)')\n",
    "top_10_mf_site_by_fc"
   ]
  },
  {
   "cell_type": "code",
   "execution_count": 222,
   "id": "0ebb9238",
   "metadata": {},
   "outputs": [
    {
     "data": {
      "image/png": "[encoded data removed]",
      "text/plain": [
       "<Figure size 936x504 with 1 Axes>"
      ]
     },
     "metadata": {},
     "output_type": "display_data"
    }
   ],
   "source": [
    "plt.figure(figsize=(13,7))\n",
    "\n",
    "axes = sns.barplot(data= top_10_mf_site_by_fc, \n",
    "            x='Manufacturing Site',\n",
    "            y='Freight Cost (USD)') \n",
    "            #estimator=sum \n",
    "\n",
    "for p in axes.patches:\n",
    "    ht = p.get_height()\n",
    "    axes.text(x=p.get_x()+(p.get_width()/2),\n",
    "             y=ht+10,\n",
    "             ha='center',\n",
    "             s=\"{:.0f}\".format(ht))\n",
    "plt.xticks(rotation='vertical')\n",
    "plt.show()   "
   ]
  },
  {
   "cell_type": "markdown",
   "id": "1b62d630",
   "metadata": {},
   "source": [
    "---"
   ]
  }
 ],
 "metadata": {
  "kernelspec": {
   "display_name": "Python 3 (ipykernel)",
   "language": "python",
   "name": "python3"
  },
  "language_info": {
   "codemirror_mode": {
    "name": "ipython",
    "version": 3
   },
   "file_extension": ".py",
   "mimetype": "text/x-python",
   "name": "python",
   "nbconvert_exporter": "python",
   "pygments_lexer": "ipython3",
   "version": "3.9.7"
  }
 },
 "nbformat": 4,
 "nbformat_minor": 5
}
